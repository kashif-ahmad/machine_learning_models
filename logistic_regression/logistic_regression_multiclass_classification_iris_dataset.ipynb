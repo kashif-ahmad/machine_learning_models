{
 "cells": [
  {
   "cell_type": "code",
   "execution_count": 43,
   "id": "00415238",
   "metadata": {},
   "outputs": [],
   "source": [
    "import numpy as np\n",
    "import pandas as pd\n",
    "\n",
    "import matplotlib.pyplot as plt\n",
    "from sklearn.model_selection import train_test_split\n",
    "from sklearn.linear_model import LogisticRegression\n",
    "\n",
    "from sklearn import datasets"
   ]
  },
  {
   "cell_type": "code",
   "execution_count": 49,
   "id": "d98fd6dd",
   "metadata": {},
   "outputs": [
    {
     "data": {
      "text/plain": [
       "array([0, 0, 0, 0, 0, 0, 0, 0, 0, 0, 0, 0, 0, 0, 0, 0, 0, 0, 0, 0, 0, 0,\n",
       "       0, 0, 0, 0, 0, 0, 0, 0, 0, 0, 0, 0, 0, 0, 0, 0, 0, 0, 0, 0, 0, 0,\n",
       "       0, 0, 0, 0, 0, 0, 1, 1, 1, 1, 1, 1, 1, 1, 1, 1, 1, 1, 1, 1, 1, 1,\n",
       "       1, 1, 1, 1, 1, 1, 1, 1, 1, 1, 1, 1, 1, 1, 1, 1, 1, 1, 1, 1, 1, 1,\n",
       "       1, 1, 1, 1, 1, 1, 1, 1, 1, 1, 1, 1, 2, 2, 2, 2, 2, 2, 2, 2, 2, 2,\n",
       "       2, 2, 2, 2, 2, 2, 2, 2, 2, 2, 2, 2, 2, 2, 2, 2, 2, 2, 2, 2, 2, 2,\n",
       "       2, 2, 2, 2, 2, 2, 2, 2, 2, 2, 2, 2, 2, 2, 2, 2, 2, 2])"
      ]
     },
     "execution_count": 49,
     "metadata": {},
     "output_type": "execute_result"
    }
   ],
   "source": [
    "iris = datasets.load_iris()\n",
    "iris.target"
   ]
  },
  {
   "cell_type": "code",
   "execution_count": 24,
   "id": "d3241689",
   "metadata": {},
   "outputs": [
    {
     "data": {
      "text/plain": [
       "['DESCR',\n",
       " 'data',\n",
       " 'data_module',\n",
       " 'feature_names',\n",
       " 'filename',\n",
       " 'frame',\n",
       " 'target',\n",
       " 'target_names']"
      ]
     },
     "execution_count": 24,
     "metadata": {},
     "output_type": "execute_result"
    }
   ],
   "source": [
    "dir (iris)"
   ]
  },
  {
   "cell_type": "code",
   "execution_count": 51,
   "id": "836a00ca",
   "metadata": {},
   "outputs": [
    {
     "data": {
      "text/plain": [
       "['sepal length (cm)',\n",
       " 'sepal width (cm)',\n",
       " 'petal length (cm)',\n",
       " 'petal width (cm)']"
      ]
     },
     "execution_count": 51,
     "metadata": {},
     "output_type": "execute_result"
    }
   ],
   "source": [
    "iris.feature_names"
   ]
  },
  {
   "cell_type": "code",
   "execution_count": 25,
   "id": "6a97b7f2",
   "metadata": {},
   "outputs": [
    {
     "data": {
      "text/plain": [
       "array([[5.1, 3.5, 1.4, 0.2],\n",
       "       [4.9, 3. , 1.4, 0.2],\n",
       "       [4.7, 3.2, 1.3, 0.2],\n",
       "       [4.6, 3.1, 1.5, 0.2],\n",
       "       [5. , 3.6, 1.4, 0.2],\n",
       "       [5.4, 3.9, 1.7, 0.4],\n",
       "       [4.6, 3.4, 1.4, 0.3],\n",
       "       [5. , 3.4, 1.5, 0.2],\n",
       "       [4.4, 2.9, 1.4, 0.2],\n",
       "       [4.9, 3.1, 1.5, 0.1],\n",
       "       [5.4, 3.7, 1.5, 0.2],\n",
       "       [4.8, 3.4, 1.6, 0.2],\n",
       "       [4.8, 3. , 1.4, 0.1],\n",
       "       [4.3, 3. , 1.1, 0.1],\n",
       "       [5.8, 4. , 1.2, 0.2],\n",
       "       [5.7, 4.4, 1.5, 0.4],\n",
       "       [5.4, 3.9, 1.3, 0.4],\n",
       "       [5.1, 3.5, 1.4, 0.3],\n",
       "       [5.7, 3.8, 1.7, 0.3],\n",
       "       [5.1, 3.8, 1.5, 0.3],\n",
       "       [5.4, 3.4, 1.7, 0.2],\n",
       "       [5.1, 3.7, 1.5, 0.4],\n",
       "       [4.6, 3.6, 1. , 0.2],\n",
       "       [5.1, 3.3, 1.7, 0.5],\n",
       "       [4.8, 3.4, 1.9, 0.2],\n",
       "       [5. , 3. , 1.6, 0.2],\n",
       "       [5. , 3.4, 1.6, 0.4],\n",
       "       [5.2, 3.5, 1.5, 0.2],\n",
       "       [5.2, 3.4, 1.4, 0.2],\n",
       "       [4.7, 3.2, 1.6, 0.2],\n",
       "       [4.8, 3.1, 1.6, 0.2],\n",
       "       [5.4, 3.4, 1.5, 0.4],\n",
       "       [5.2, 4.1, 1.5, 0.1],\n",
       "       [5.5, 4.2, 1.4, 0.2],\n",
       "       [4.9, 3.1, 1.5, 0.2],\n",
       "       [5. , 3.2, 1.2, 0.2],\n",
       "       [5.5, 3.5, 1.3, 0.2],\n",
       "       [4.9, 3.6, 1.4, 0.1],\n",
       "       [4.4, 3. , 1.3, 0.2],\n",
       "       [5.1, 3.4, 1.5, 0.2],\n",
       "       [5. , 3.5, 1.3, 0.3],\n",
       "       [4.5, 2.3, 1.3, 0.3],\n",
       "       [4.4, 3.2, 1.3, 0.2],\n",
       "       [5. , 3.5, 1.6, 0.6],\n",
       "       [5.1, 3.8, 1.9, 0.4],\n",
       "       [4.8, 3. , 1.4, 0.3],\n",
       "       [5.1, 3.8, 1.6, 0.2],\n",
       "       [4.6, 3.2, 1.4, 0.2],\n",
       "       [5.3, 3.7, 1.5, 0.2],\n",
       "       [5. , 3.3, 1.4, 0.2],\n",
       "       [7. , 3.2, 4.7, 1.4],\n",
       "       [6.4, 3.2, 4.5, 1.5],\n",
       "       [6.9, 3.1, 4.9, 1.5],\n",
       "       [5.5, 2.3, 4. , 1.3],\n",
       "       [6.5, 2.8, 4.6, 1.5],\n",
       "       [5.7, 2.8, 4.5, 1.3],\n",
       "       [6.3, 3.3, 4.7, 1.6],\n",
       "       [4.9, 2.4, 3.3, 1. ],\n",
       "       [6.6, 2.9, 4.6, 1.3],\n",
       "       [5.2, 2.7, 3.9, 1.4],\n",
       "       [5. , 2. , 3.5, 1. ],\n",
       "       [5.9, 3. , 4.2, 1.5],\n",
       "       [6. , 2.2, 4. , 1. ],\n",
       "       [6.1, 2.9, 4.7, 1.4],\n",
       "       [5.6, 2.9, 3.6, 1.3],\n",
       "       [6.7, 3.1, 4.4, 1.4],\n",
       "       [5.6, 3. , 4.5, 1.5],\n",
       "       [5.8, 2.7, 4.1, 1. ],\n",
       "       [6.2, 2.2, 4.5, 1.5],\n",
       "       [5.6, 2.5, 3.9, 1.1],\n",
       "       [5.9, 3.2, 4.8, 1.8],\n",
       "       [6.1, 2.8, 4. , 1.3],\n",
       "       [6.3, 2.5, 4.9, 1.5],\n",
       "       [6.1, 2.8, 4.7, 1.2],\n",
       "       [6.4, 2.9, 4.3, 1.3],\n",
       "       [6.6, 3. , 4.4, 1.4],\n",
       "       [6.8, 2.8, 4.8, 1.4],\n",
       "       [6.7, 3. , 5. , 1.7],\n",
       "       [6. , 2.9, 4.5, 1.5],\n",
       "       [5.7, 2.6, 3.5, 1. ],\n",
       "       [5.5, 2.4, 3.8, 1.1],\n",
       "       [5.5, 2.4, 3.7, 1. ],\n",
       "       [5.8, 2.7, 3.9, 1.2],\n",
       "       [6. , 2.7, 5.1, 1.6],\n",
       "       [5.4, 3. , 4.5, 1.5],\n",
       "       [6. , 3.4, 4.5, 1.6],\n",
       "       [6.7, 3.1, 4.7, 1.5],\n",
       "       [6.3, 2.3, 4.4, 1.3],\n",
       "       [5.6, 3. , 4.1, 1.3],\n",
       "       [5.5, 2.5, 4. , 1.3],\n",
       "       [5.5, 2.6, 4.4, 1.2],\n",
       "       [6.1, 3. , 4.6, 1.4],\n",
       "       [5.8, 2.6, 4. , 1.2],\n",
       "       [5. , 2.3, 3.3, 1. ],\n",
       "       [5.6, 2.7, 4.2, 1.3],\n",
       "       [5.7, 3. , 4.2, 1.2],\n",
       "       [5.7, 2.9, 4.2, 1.3],\n",
       "       [6.2, 2.9, 4.3, 1.3],\n",
       "       [5.1, 2.5, 3. , 1.1],\n",
       "       [5.7, 2.8, 4.1, 1.3],\n",
       "       [6.3, 3.3, 6. , 2.5],\n",
       "       [5.8, 2.7, 5.1, 1.9],\n",
       "       [7.1, 3. , 5.9, 2.1],\n",
       "       [6.3, 2.9, 5.6, 1.8],\n",
       "       [6.5, 3. , 5.8, 2.2],\n",
       "       [7.6, 3. , 6.6, 2.1],\n",
       "       [4.9, 2.5, 4.5, 1.7],\n",
       "       [7.3, 2.9, 6.3, 1.8],\n",
       "       [6.7, 2.5, 5.8, 1.8],\n",
       "       [7.2, 3.6, 6.1, 2.5],\n",
       "       [6.5, 3.2, 5.1, 2. ],\n",
       "       [6.4, 2.7, 5.3, 1.9],\n",
       "       [6.8, 3. , 5.5, 2.1],\n",
       "       [5.7, 2.5, 5. , 2. ],\n",
       "       [5.8, 2.8, 5.1, 2.4],\n",
       "       [6.4, 3.2, 5.3, 2.3],\n",
       "       [6.5, 3. , 5.5, 1.8],\n",
       "       [7.7, 3.8, 6.7, 2.2],\n",
       "       [7.7, 2.6, 6.9, 2.3],\n",
       "       [6. , 2.2, 5. , 1.5],\n",
       "       [6.9, 3.2, 5.7, 2.3],\n",
       "       [5.6, 2.8, 4.9, 2. ],\n",
       "       [7.7, 2.8, 6.7, 2. ],\n",
       "       [6.3, 2.7, 4.9, 1.8],\n",
       "       [6.7, 3.3, 5.7, 2.1],\n",
       "       [7.2, 3.2, 6. , 1.8],\n",
       "       [6.2, 2.8, 4.8, 1.8],\n",
       "       [6.1, 3. , 4.9, 1.8],\n",
       "       [6.4, 2.8, 5.6, 2.1],\n",
       "       [7.2, 3. , 5.8, 1.6],\n",
       "       [7.4, 2.8, 6.1, 1.9],\n",
       "       [7.9, 3.8, 6.4, 2. ],\n",
       "       [6.4, 2.8, 5.6, 2.2],\n",
       "       [6.3, 2.8, 5.1, 1.5],\n",
       "       [6.1, 2.6, 5.6, 1.4],\n",
       "       [7.7, 3. , 6.1, 2.3],\n",
       "       [6.3, 3.4, 5.6, 2.4],\n",
       "       [6.4, 3.1, 5.5, 1.8],\n",
       "       [6. , 3. , 4.8, 1.8],\n",
       "       [6.9, 3.1, 5.4, 2.1],\n",
       "       [6.7, 3.1, 5.6, 2.4],\n",
       "       [6.9, 3.1, 5.1, 2.3],\n",
       "       [5.8, 2.7, 5.1, 1.9],\n",
       "       [6.8, 3.2, 5.9, 2.3],\n",
       "       [6.7, 3.3, 5.7, 2.5],\n",
       "       [6.7, 3. , 5.2, 2.3],\n",
       "       [6.3, 2.5, 5. , 1.9],\n",
       "       [6.5, 3. , 5.2, 2. ],\n",
       "       [6.2, 3.4, 5.4, 2.3],\n",
       "       [5.9, 3. , 5.1, 1.8]])"
      ]
     },
     "execution_count": 25,
     "metadata": {},
     "output_type": "execute_result"
    }
   ],
   "source": [
    "iris.data [:,:]"
   ]
  },
  {
   "cell_type": "code",
   "execution_count": 26,
   "id": "3bed734f",
   "metadata": {},
   "outputs": [
    {
     "name": "stdout",
     "output_type": "stream",
     "text": [
      "[5.1 3.5 1.4 0.2]\n",
      "0\n",
      "[4.9 3.  1.4 0.2]\n",
      "0\n",
      "[4.7 3.2 1.3 0.2]\n",
      "0\n",
      "[4.6 3.1 1.5 0.2]\n",
      "0\n",
      "[5.  3.6 1.4 0.2]\n",
      "0\n",
      "[5.4 3.9 1.7 0.4]\n",
      "0\n",
      "[4.6 3.4 1.4 0.3]\n",
      "0\n",
      "[5.  3.4 1.5 0.2]\n",
      "0\n",
      "[4.4 2.9 1.4 0.2]\n",
      "0\n",
      "[4.9 3.1 1.5 0.1]\n",
      "0\n",
      "[5.4 3.7 1.5 0.2]\n",
      "0\n",
      "[4.8 3.4 1.6 0.2]\n",
      "0\n",
      "[4.8 3.  1.4 0.1]\n",
      "0\n",
      "[4.3 3.  1.1 0.1]\n",
      "0\n",
      "[5.8 4.  1.2 0.2]\n",
      "0\n",
      "[5.7 4.4 1.5 0.4]\n",
      "0\n",
      "[5.4 3.9 1.3 0.4]\n",
      "0\n",
      "[5.1 3.5 1.4 0.3]\n",
      "0\n",
      "[5.7 3.8 1.7 0.3]\n",
      "0\n",
      "[5.1 3.8 1.5 0.3]\n",
      "0\n",
      "[5.4 3.4 1.7 0.2]\n",
      "0\n",
      "[5.1 3.7 1.5 0.4]\n",
      "0\n",
      "[4.6 3.6 1.  0.2]\n",
      "0\n",
      "[5.1 3.3 1.7 0.5]\n",
      "0\n",
      "[4.8 3.4 1.9 0.2]\n",
      "0\n",
      "[5.  3.  1.6 0.2]\n",
      "0\n",
      "[5.  3.4 1.6 0.4]\n",
      "0\n",
      "[5.2 3.5 1.5 0.2]\n",
      "0\n",
      "[5.2 3.4 1.4 0.2]\n",
      "0\n",
      "[4.7 3.2 1.6 0.2]\n",
      "0\n",
      "[4.8 3.1 1.6 0.2]\n",
      "0\n",
      "[5.4 3.4 1.5 0.4]\n",
      "0\n",
      "[5.2 4.1 1.5 0.1]\n",
      "0\n",
      "[5.5 4.2 1.4 0.2]\n",
      "0\n",
      "[4.9 3.1 1.5 0.2]\n",
      "0\n",
      "[5.  3.2 1.2 0.2]\n",
      "0\n",
      "[5.5 3.5 1.3 0.2]\n",
      "0\n",
      "[4.9 3.6 1.4 0.1]\n",
      "0\n",
      "[4.4 3.  1.3 0.2]\n",
      "0\n",
      "[5.1 3.4 1.5 0.2]\n",
      "0\n",
      "[5.  3.5 1.3 0.3]\n",
      "0\n",
      "[4.5 2.3 1.3 0.3]\n",
      "0\n",
      "[4.4 3.2 1.3 0.2]\n",
      "0\n",
      "[5.  3.5 1.6 0.6]\n",
      "0\n",
      "[5.1 3.8 1.9 0.4]\n",
      "0\n",
      "[4.8 3.  1.4 0.3]\n",
      "0\n",
      "[5.1 3.8 1.6 0.2]\n",
      "0\n",
      "[4.6 3.2 1.4 0.2]\n",
      "0\n",
      "[5.3 3.7 1.5 0.2]\n",
      "0\n",
      "[5.  3.3 1.4 0.2]\n",
      "0\n",
      "[7.  3.2 4.7 1.4]\n",
      "1\n",
      "[6.4 3.2 4.5 1.5]\n",
      "1\n",
      "[6.9 3.1 4.9 1.5]\n",
      "1\n",
      "[5.5 2.3 4.  1.3]\n",
      "1\n",
      "[6.5 2.8 4.6 1.5]\n",
      "1\n",
      "[5.7 2.8 4.5 1.3]\n",
      "1\n",
      "[6.3 3.3 4.7 1.6]\n",
      "1\n",
      "[4.9 2.4 3.3 1. ]\n",
      "1\n",
      "[6.6 2.9 4.6 1.3]\n",
      "1\n",
      "[5.2 2.7 3.9 1.4]\n",
      "1\n",
      "[5.  2.  3.5 1. ]\n",
      "1\n",
      "[5.9 3.  4.2 1.5]\n",
      "1\n",
      "[6.  2.2 4.  1. ]\n",
      "1\n",
      "[6.1 2.9 4.7 1.4]\n",
      "1\n",
      "[5.6 2.9 3.6 1.3]\n",
      "1\n",
      "[6.7 3.1 4.4 1.4]\n",
      "1\n",
      "[5.6 3.  4.5 1.5]\n",
      "1\n",
      "[5.8 2.7 4.1 1. ]\n",
      "1\n",
      "[6.2 2.2 4.5 1.5]\n",
      "1\n",
      "[5.6 2.5 3.9 1.1]\n",
      "1\n",
      "[5.9 3.2 4.8 1.8]\n",
      "1\n",
      "[6.1 2.8 4.  1.3]\n",
      "1\n",
      "[6.3 2.5 4.9 1.5]\n",
      "1\n",
      "[6.1 2.8 4.7 1.2]\n",
      "1\n",
      "[6.4 2.9 4.3 1.3]\n",
      "1\n",
      "[6.6 3.  4.4 1.4]\n",
      "1\n",
      "[6.8 2.8 4.8 1.4]\n",
      "1\n",
      "[6.7 3.  5.  1.7]\n",
      "1\n",
      "[6.  2.9 4.5 1.5]\n",
      "1\n",
      "[5.7 2.6 3.5 1. ]\n",
      "1\n",
      "[5.5 2.4 3.8 1.1]\n",
      "1\n",
      "[5.5 2.4 3.7 1. ]\n",
      "1\n",
      "[5.8 2.7 3.9 1.2]\n",
      "1\n",
      "[6.  2.7 5.1 1.6]\n",
      "1\n",
      "[5.4 3.  4.5 1.5]\n",
      "1\n",
      "[6.  3.4 4.5 1.6]\n",
      "1\n",
      "[6.7 3.1 4.7 1.5]\n",
      "1\n",
      "[6.3 2.3 4.4 1.3]\n",
      "1\n",
      "[5.6 3.  4.1 1.3]\n",
      "1\n",
      "[5.5 2.5 4.  1.3]\n",
      "1\n",
      "[5.5 2.6 4.4 1.2]\n",
      "1\n",
      "[6.1 3.  4.6 1.4]\n",
      "1\n",
      "[5.8 2.6 4.  1.2]\n",
      "1\n",
      "[5.  2.3 3.3 1. ]\n",
      "1\n",
      "[5.6 2.7 4.2 1.3]\n",
      "1\n",
      "[5.7 3.  4.2 1.2]\n",
      "1\n",
      "[5.7 2.9 4.2 1.3]\n",
      "1\n",
      "[6.2 2.9 4.3 1.3]\n",
      "1\n",
      "[5.1 2.5 3.  1.1]\n",
      "1\n",
      "[5.7 2.8 4.1 1.3]\n",
      "1\n",
      "[6.3 3.3 6.  2.5]\n",
      "2\n",
      "[5.8 2.7 5.1 1.9]\n",
      "2\n",
      "[7.1 3.  5.9 2.1]\n",
      "2\n",
      "[6.3 2.9 5.6 1.8]\n",
      "2\n",
      "[6.5 3.  5.8 2.2]\n",
      "2\n",
      "[7.6 3.  6.6 2.1]\n",
      "2\n",
      "[4.9 2.5 4.5 1.7]\n",
      "2\n",
      "[7.3 2.9 6.3 1.8]\n",
      "2\n",
      "[6.7 2.5 5.8 1.8]\n",
      "2\n",
      "[7.2 3.6 6.1 2.5]\n",
      "2\n",
      "[6.5 3.2 5.1 2. ]\n",
      "2\n",
      "[6.4 2.7 5.3 1.9]\n",
      "2\n",
      "[6.8 3.  5.5 2.1]\n",
      "2\n",
      "[5.7 2.5 5.  2. ]\n",
      "2\n",
      "[5.8 2.8 5.1 2.4]\n",
      "2\n",
      "[6.4 3.2 5.3 2.3]\n",
      "2\n",
      "[6.5 3.  5.5 1.8]\n",
      "2\n",
      "[7.7 3.8 6.7 2.2]\n",
      "2\n",
      "[7.7 2.6 6.9 2.3]\n",
      "2\n",
      "[6.  2.2 5.  1.5]\n",
      "2\n",
      "[6.9 3.2 5.7 2.3]\n",
      "2\n",
      "[5.6 2.8 4.9 2. ]\n",
      "2\n",
      "[7.7 2.8 6.7 2. ]\n",
      "2\n",
      "[6.3 2.7 4.9 1.8]\n",
      "2\n",
      "[6.7 3.3 5.7 2.1]\n",
      "2\n",
      "[7.2 3.2 6.  1.8]\n",
      "2\n",
      "[6.2 2.8 4.8 1.8]\n",
      "2\n",
      "[6.1 3.  4.9 1.8]\n",
      "2\n",
      "[6.4 2.8 5.6 2.1]\n",
      "2\n",
      "[7.2 3.  5.8 1.6]\n",
      "2\n",
      "[7.4 2.8 6.1 1.9]\n",
      "2\n",
      "[7.9 3.8 6.4 2. ]\n",
      "2\n",
      "[6.4 2.8 5.6 2.2]\n",
      "2\n",
      "[6.3 2.8 5.1 1.5]\n",
      "2\n",
      "[6.1 2.6 5.6 1.4]\n",
      "2\n",
      "[7.7 3.  6.1 2.3]\n",
      "2\n",
      "[6.3 3.4 5.6 2.4]\n",
      "2\n",
      "[6.4 3.1 5.5 1.8]\n",
      "2\n",
      "[6.  3.  4.8 1.8]\n",
      "2\n",
      "[6.9 3.1 5.4 2.1]\n",
      "2\n",
      "[6.7 3.1 5.6 2.4]\n",
      "2\n",
      "[6.9 3.1 5.1 2.3]\n",
      "2\n",
      "[5.8 2.7 5.1 1.9]\n",
      "2\n",
      "[6.8 3.2 5.9 2.3]\n",
      "2\n",
      "[6.7 3.3 5.7 2.5]\n",
      "2\n",
      "[6.7 3.  5.2 2.3]\n",
      "2\n",
      "[6.3 2.5 5.  1.9]\n",
      "2\n",
      "[6.5 3.  5.2 2. ]\n",
      "2\n",
      "[6.2 3.4 5.4 2.3]\n",
      "2\n",
      "[5.9 3.  5.1 1.8]\n",
      "2\n"
     ]
    },
    {
     "data": {
      "text/plain": [
       "<Figure size 640x480 with 0 Axes>"
      ]
     },
     "metadata": {},
     "output_type": "display_data"
    }
   ],
   "source": [
    "plt.gray()\n",
    "for i in range (len(iris.data)):\n",
    "    print (f\"{iris.data[i]}\")\n",
    "    print (f\"{iris.target[i]}\")"
   ]
  },
  {
   "cell_type": "code",
   "execution_count": 31,
   "id": "4edb835d",
   "metadata": {},
   "outputs": [],
   "source": [
    "x_train, x_test, y_train, y_test = train_test_split(iris.data, iris.target, test_size=0.1)"
   ]
  },
  {
   "cell_type": "code",
   "execution_count": 50,
   "id": "02fc7d84",
   "metadata": {},
   "outputs": [
    {
     "data": {
      "image/png": "[encoded data removed]",
      "text/plain": [
       "<Figure size 640x480 with 1 Axes>"
      ]
     },
     "metadata": {},
     "output_type": "display_data"
    }
   ],
   "source": [
    "# Plot also the training points\n",
    "plt.scatter(x_train[:, 0], x_train[:, 1], c=y_train, edgecolors=\"k\", cmap=plt.cm.Paired)\n",
    "\n",
    "\n",
    "plt.xticks(())\n",
    "plt.yticks(())\n",
    "\n",
    "plt.show()"
   ]
  },
  {
   "cell_type": "code",
   "execution_count": 32,
   "id": "8436488a",
   "metadata": {},
   "outputs": [],
   "source": [
    "model = LogisticRegression()"
   ]
  },
  {
   "cell_type": "code",
   "execution_count": 33,
   "id": "fcc98f33",
   "metadata": {},
   "outputs": [
    {
     "data": {
      "text/html": [
       "<style>#sk-container-id-2 {color: black;background-color: white;}#sk-container-id-2 pre{padding: 0;}#sk-container-id-2 div.sk-toggleable {background-color: white;}#sk-container-id-2 label.sk-toggleable__label {cursor: pointer;display: block;width: 100%;margin-bottom: 0;padding: 0.3em;box-sizing: border-box;text-align: center;}#sk-container-id-2 label.sk-toggleable__label-arrow:before {content: \"▸\";float: left;margin-right: 0.25em;color: #696969;}#sk-container-id-2 label.sk-toggleable__label-arrow:hover:before {color: black;}#sk-container-id-2 div.sk-estimator:hover label.sk-toggleable__label-arrow:before {color: black;}#sk-container-id-2 div.sk-toggleable__content {max-height: 0;max-width: 0;overflow: hidden;text-align: left;background-color: #f0f8ff;}#sk-container-id-2 div.sk-toggleable__content pre {margin: 0.2em;color: black;border-radius: 0.25em;background-color: #f0f8ff;}#sk-container-id-2 input.sk-toggleable__control:checked~div.sk-toggleable__content {max-height: 200px;max-width: 100%;overflow: auto;}#sk-container-id-2 input.sk-toggleable__control:checked~label.sk-toggleable__label-arrow:before {content: \"▾\";}#sk-container-id-2 div.sk-estimator input.sk-toggleable__control:checked~label.sk-toggleable__label {background-color: #d4ebff;}#sk-container-id-2 div.sk-label input.sk-toggleable__control:checked~label.sk-toggleable__label {background-color: #d4ebff;}#sk-container-id-2 input.sk-hidden--visually {border: 0;clip: rect(1px 1px 1px 1px);clip: rect(1px, 1px, 1px, 1px);height: 1px;margin: -1px;overflow: hidden;padding: 0;position: absolute;width: 1px;}#sk-container-id-2 div.sk-estimator {font-family: monospace;background-color: #f0f8ff;border: 1px dotted black;border-radius: 0.25em;box-sizing: border-box;margin-bottom: 0.5em;}#sk-container-id-2 div.sk-estimator:hover {background-color: #d4ebff;}#sk-container-id-2 div.sk-parallel-item::after {content: \"\";width: 100%;border-bottom: 1px solid gray;flex-grow: 1;}#sk-container-id-2 div.sk-label:hover label.sk-toggleable__label {background-color: #d4ebff;}#sk-container-id-2 div.sk-serial::before {content: \"\";position: absolute;border-left: 1px solid gray;box-sizing: border-box;top: 0;bottom: 0;left: 50%;z-index: 0;}#sk-container-id-2 div.sk-serial {display: flex;flex-direction: column;align-items: center;background-color: white;padding-right: 0.2em;padding-left: 0.2em;position: relative;}#sk-container-id-2 div.sk-item {position: relative;z-index: 1;}#sk-container-id-2 div.sk-parallel {display: flex;align-items: stretch;justify-content: center;background-color: white;position: relative;}#sk-container-id-2 div.sk-item::before, #sk-container-id-2 div.sk-parallel-item::before {content: \"\";position: absolute;border-left: 1px solid gray;box-sizing: border-box;top: 0;bottom: 0;left: 50%;z-index: -1;}#sk-container-id-2 div.sk-parallel-item {display: flex;flex-direction: column;z-index: 1;position: relative;background-color: white;}#sk-container-id-2 div.sk-parallel-item:first-child::after {align-self: flex-end;width: 50%;}#sk-container-id-2 div.sk-parallel-item:last-child::after {align-self: flex-start;width: 50%;}#sk-container-id-2 div.sk-parallel-item:only-child::after {width: 0;}#sk-container-id-2 div.sk-dashed-wrapped {border: 1px dashed gray;margin: 0 0.4em 0.5em 0.4em;box-sizing: border-box;padding-bottom: 0.4em;background-color: white;}#sk-container-id-2 div.sk-label label {font-family: monospace;font-weight: bold;display: inline-block;line-height: 1.2em;}#sk-container-id-2 div.sk-label-container {text-align: center;}#sk-container-id-2 div.sk-container {/* jupyter's `normalize.less` sets `[hidden] { display: none; }` but bootstrap.min.css set `[hidden] { display: none !important; }` so we also need the `!important` here to be able to override the default hidden behavior on the sphinx rendered scikit-learn.org. See: https://github.com/scikit-learn/scikit-learn/issues/21755 */display: inline-block !important;position: relative;}#sk-container-id-2 div.sk-text-repr-fallback {display: none;}</style><div id=\"sk-container-id-2\" class=\"sk-top-container\"><div class=\"sk-text-repr-fallback\"><pre>LogisticRegression()</pre><b>In a Jupyter environment, please rerun this cell to show the HTML representation or trust the notebook. <br />On GitHub, the HTML representation is unable to render, please try loading this page with nbviewer.org.</b></div><div class=\"sk-container\" hidden><div class=\"sk-item\"><div class=\"sk-estimator sk-toggleable\"><input class=\"sk-toggleable__control sk-hidden--visually\" id=\"sk-estimator-id-2\" type=\"checkbox\" checked><label for=\"sk-estimator-id-2\" class=\"sk-toggleable__label sk-toggleable__label-arrow\">LogisticRegression</label><div class=\"sk-toggleable__content\"><pre>LogisticRegression()</pre></div></div></div></div></div>"
      ],
      "text/plain": [
       "LogisticRegression()"
      ]
     },
     "execution_count": 33,
     "metadata": {},
     "output_type": "execute_result"
    }
   ],
   "source": [
    "model.fit(x_train, y_train)"
   ]
  },
  {
   "cell_type": "code",
   "execution_count": 35,
   "id": "a3513e63",
   "metadata": {},
   "outputs": [
    {
     "data": {
      "text/plain": [
       "1.0"
      ]
     },
     "execution_count": 35,
     "metadata": {},
     "output_type": "execute_result"
    }
   ],
   "source": [
    "model.score(x_test, y_test)"
   ]
  },
  {
   "cell_type": "code",
   "execution_count": 40,
   "id": "39fefaef",
   "metadata": {},
   "outputs": [
    {
     "data": {
      "text/plain": [
       "array([1])"
      ]
     },
     "execution_count": 40,
     "metadata": {},
     "output_type": "execute_result"
    }
   ],
   "source": [
    "model.predict([iris.data[50]])"
   ]
  },
  {
   "cell_type": "code",
   "execution_count": 55,
   "id": "1b0811ca",
   "metadata": {},
   "outputs": [],
   "source": [
    "prediction = model.predict(x_test)"
   ]
  },
  {
   "cell_type": "code",
   "execution_count": 57,
   "id": "22801ea1",
   "metadata": {},
   "outputs": [
    {
     "data": {
      "text/plain": [
       "1.0"
      ]
     },
     "execution_count": 57,
     "metadata": {},
     "output_type": "execute_result"
    }
   ],
   "source": [
    "from sklearn import metrics\n",
    "\n",
    "metrics.accuracy_score(y_test, prediction)"
   ]
  },
  {
   "cell_type": "code",
   "execution_count": 58,
   "id": "99ad3681",
   "metadata": {},
   "outputs": [],
   "source": [
    "def plot_confusion_matrix(cm, classes,\n",
    "                          normalize=False,\n",
    "                          title='Confusion matrix',\n",
    "                          cmap=plt.cm.Blues):\n",
    "    \"\"\"\n",
    "    This function prints and plots the confusion matrix.\n",
    "    Normalization can be applied by setting `normalize=True`.\n",
    "    \"\"\"\n",
    "    if normalize:\n",
    "        cm = cm.astype('float') / cm.sum(axis=1)[:, np.newaxis]\n",
    "        print(\"Normalized confusion matrix\")\n",
    "    else:\n",
    "        print('Confusion matrix, without normalization')\n",
    "\n",
    "    print(cm)\n",
    "\n",
    "    plt.imshow(cm, interpolation='nearest', cmap=cmap)\n",
    "    plt.title(title)\n",
    "    plt.colorbar()\n",
    "    tick_marks = np.arange(len(classes))\n",
    "    plt.xticks(tick_marks, classes, rotation=45)\n",
    "    plt.yticks(tick_marks, classes)\n",
    "\n",
    "    fmt = '.2f' if normalize else 'd'\n",
    "    thresh = cm.max() / 2.\n",
    "    for i, j in itertools.product(range(cm.shape[0]), range(cm.shape[1])):\n",
    "        plt.text(j, i, format(cm[i, j], fmt),\n",
    "                 horizontalalignment=\"center\",\n",
    "                 color=\"white\" if cm[i, j] > thresh else \"black\")\n",
    "\n",
    "    plt.tight_layout()\n",
    "    plt.ylabel('True label')\n",
    "    plt.xlabel('Predicted label')"
   ]
  },
  {
   "cell_type": "code",
   "execution_count": 63,
   "id": "cc42f616",
   "metadata": {},
   "outputs": [
    {
     "name": "stdout",
     "output_type": "stream",
     "text": [
      "Confusion matrix, without normalization\n",
      "[[3 0 0]\n",
      " [0 9 0]\n",
      " [0 0 3]]\n"
     ]
    },
    {
     "data": {
      "image/png": "[encoded data removed]",
      "text/plain": [
       "<Figure size 640x480 with 2 Axes>"
      ]
     },
     "metadata": {},
     "output_type": "display_data"
    }
   ],
   "source": [
    "from sklearn.metrics import confusion_matrix\n",
    "import itertools\n",
    "\n",
    "# Compute confusion matrix\n",
    "model.fit(x_train,y_train)\n",
    "cnf_matrix = confusion_matrix(y_test, model.predict(x_test))\n",
    "np.set_printoptions(precision=2)\n",
    "\n",
    "plt.figure()\n",
    "plot_confusion_matrix(cnf_matrix, classes=iris.target_names,\n",
    "                      title='Confusion matrix')"
   ]
  },
  {
   "cell_type": "code",
   "execution_count": null,
   "id": "34bdb3eb",
   "metadata": {},
   "outputs": [],
   "source": []
  }
 ],
 "metadata": {
  "kernelspec": {
   "display_name": "Python 3 (ipykernel)",
   "language": "python",
   "name": "python3"
  },
  "language_info": {
   "codemirror_mode": {
    "name": "ipython",
    "version": 3
   },
   "file_extension": ".py",
   "mimetype": "text/x-python",
   "name": "python",
   "nbconvert_exporter": "python",
   "pygments_lexer": "ipython3",
   "version": "3.10.9"
  }
 },
 "nbformat": 4,
 "nbformat_minor": 5
}
