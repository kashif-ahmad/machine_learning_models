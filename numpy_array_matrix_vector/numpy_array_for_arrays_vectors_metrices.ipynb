{
 "cells": [
  {
   "cell_type": "code",
   "execution_count": 155,
   "id": "42a7ff37",
   "metadata": {},
   "outputs": [],
   "source": [
    "import numpy as np"
   ]
  },
  {
   "cell_type": "markdown",
   "id": "01dd292b",
   "metadata": {},
   "source": [
    "### Important Note\n",
    "\n",
    "An array can be of Dimension 0, 1, 2...\n",
    "\n",
    "0-D = has one element only\n",
    "1-D = always has elements in a squared bracked ([])\n",
    "2-D = always has elements in double squared bracked ([[]])"
   ]
  },
  {
   "cell_type": "markdown",
   "id": "728bd3fe",
   "metadata": {},
   "source": [
    "### Numpy Arrays"
   ]
  },
  {
   "cell_type": "code",
   "execution_count": 156,
   "id": "ca11b0b4",
   "metadata": {},
   "outputs": [
    {
     "name": "stdout",
     "output_type": "stream",
     "text": [
      "shape:  ()\n",
      "Array:  1\n",
      "Dimension:  0\n"
     ]
    }
   ],
   "source": [
    "## 0-D array\n",
    "arr = np.array (1)\n",
    "\n",
    "arr\n",
    "print (\"shape: \", arr.shape)\n",
    "print(\"Array: \", arr)\n",
    "print (\"Dimension: \", arr.ndim)"
   ]
  },
  {
   "cell_type": "code",
   "execution_count": 157,
   "id": "e1ff4e80",
   "metadata": {},
   "outputs": [
    {
     "name": "stdout",
     "output_type": "stream",
     "text": [
      "shape:  (4,)\n",
      "Array:  [1 2 3 4]\n",
      "Dimension:  1\n"
     ]
    }
   ],
   "source": [
    "## 1-D array\n",
    "arr = np.array ([1, 2, 3, 4])\n",
    "\n",
    "arr\n",
    "print (\"shape: \", arr.shape)\n",
    "print(\"Array: \", arr)\n",
    "print (\"Dimension: \", arr.ndim)"
   ]
  },
  {
   "cell_type": "code",
   "execution_count": 158,
   "id": "612b62a1",
   "metadata": {},
   "outputs": [
    {
     "name": "stdout",
     "output_type": "stream",
     "text": [
      "shape:  (2, 4)\n",
      "Array:  [[1 2 3 4]\n",
      " [1 2 3 4]]\n",
      "Dimension:  2\n"
     ]
    }
   ],
   "source": [
    "## 2-D array\n",
    "arr = np.array ([[1, 2, 3, 4], [1, 2, 3, 4]])\n",
    "\n",
    "arr\n",
    "print (\"shape: \", arr.shape)\n",
    "print(\"Array: \", arr)\n",
    "print (\"Dimension: \", arr.ndim)"
   ]
  },
  {
   "cell_type": "code",
   "execution_count": 161,
   "id": "b6037097",
   "metadata": {},
   "outputs": [
    {
     "name": "stdout",
     "output_type": "stream",
     "text": [
      "[3 3]\n"
     ]
    }
   ],
   "source": [
    "print (str(arr[:, 2]))"
   ]
  },
  {
   "cell_type": "code",
   "execution_count": 162,
   "id": "8a829b5a",
   "metadata": {},
   "outputs": [
    {
     "name": "stdout",
     "output_type": "stream",
     "text": [
      "shape:  (2, 2, 3)\n",
      "Array:  [[[ 1  2  3]\n",
      "  [ 4  5  6]]\n",
      "\n",
      " [[ 7  8  9]\n",
      "  [10 11 12]]]\n",
      "Dimension:  3\n"
     ]
    }
   ],
   "source": [
    "## 3-D array with two 2-D arrays, both containing two arrays with the values 1,2,3 and 4,5,6:\n",
    "arr = np.array([#1D \n",
    "                    [#2D\n",
    "                        [1, 2, 3], [4, 5, 6] #3D \n",
    "                    ], \n",
    "                    [#2D\n",
    "                        [7, 8, 9], [10, 11, 12] #3D \n",
    "                    ]\n",
    "            ])\n",
    "\n",
    "arr\n",
    "print (\"shape: \", arr.shape)\n",
    "print(\"Array: \", arr)\n",
    "print (\"Dimension: \", arr.ndim)"
   ]
  },
  {
   "cell_type": "code",
   "execution_count": 164,
   "id": "01071bc7",
   "metadata": {},
   "outputs": [
    {
     "name": "stdout",
     "output_type": "stream",
     "text": [
      "[[ 4  5  6]\n",
      " [10 11 12]]\n"
     ]
    }
   ],
   "source": [
    "print (str(arr[:, 1]))"
   ]
  },
  {
   "cell_type": "code",
   "execution_count": 107,
   "id": "1245d24c",
   "metadata": {},
   "outputs": [
    {
     "name": "stdout",
     "output_type": "stream",
     "text": [
      "shape:  (1, 1, 1, 1, 4)\n",
      "Array:  [[[[[1 2 3 4]]]]]\n",
      "Dimension:  5\n"
     ]
    }
   ],
   "source": [
    "# create ndim array, feel free to change ndim below\n",
    "arr = np.array([1, 2, 3, 4], ndmin=5)\n",
    "\n",
    "arr\n",
    "print (\"shape: \", arr.shape)\n",
    "print(\"Array: \", arr)\n",
    "print (\"Dimension: \", arr.ndim)"
   ]
  },
  {
   "cell_type": "code",
   "execution_count": 108,
   "id": "91644273",
   "metadata": {},
   "outputs": [
    {
     "name": "stdout",
     "output_type": "stream",
     "text": [
      "shape:  (15,)\n",
      "Array:  [ 1  2  3  4  5  6  7  8  9 10 11 12 13 14 15]\n",
      "Dimension:  1\n"
     ]
    }
   ],
   "source": [
    "arr = np.array([1, 2, 3, 4, 5, 6, 7, 8, 9, 10, 11, 12, 13, 14, 15])\n",
    "\n",
    "arr\n",
    "print (\"shape: \", arr.shape)\n",
    "print(\"Array: \", arr)\n",
    "print (\"Dimension: \", arr.ndim)"
   ]
  },
  {
   "cell_type": "code",
   "execution_count": 109,
   "id": "639a786d",
   "metadata": {},
   "outputs": [
    {
     "name": "stdout",
     "output_type": "stream",
     "text": [
      "shape:  (3, 5)\n",
      "Array:  [[ 1  2  3  4  5]\n",
      " [ 6  7  8  9 10]\n",
      " [11 12 13 14 15]]\n",
      "Dimension:  2\n"
     ]
    }
   ],
   "source": [
    "arr1 = arr.reshape (3, 5)\n",
    "\n",
    "arr1\n",
    "print (\"shape: \", arr1.shape)\n",
    "print(\"Array: \", arr1)\n",
    "print (\"Dimension: \", arr1.ndim)"
   ]
  },
  {
   "cell_type": "code",
   "execution_count": 110,
   "id": "d3295ced",
   "metadata": {},
   "outputs": [
    {
     "name": "stdout",
     "output_type": "stream",
     "text": [
      "shape:  ()\n",
      "Array:  1.0\n",
      "Dimension:  0\n"
     ]
    }
   ],
   "source": [
    "a = np.array(1, dtype=float)\n",
    "\n",
    "a\n",
    "print (\"shape: \", a.shape)\n",
    "print(\"Array: \", a)\n",
    "print (\"Dimension: \", a.ndim)"
   ]
  },
  {
   "cell_type": "code",
   "execution_count": 111,
   "id": "7a474de6",
   "metadata": {},
   "outputs": [
    {
     "name": "stdout",
     "output_type": "stream",
     "text": [
      "shape:  (3, 4)\n",
      "Array:  [[1 2 3 4]\n",
      " [1 2 3 4]\n",
      " [1 2 3 4]]\n",
      "Dimension:  2\n"
     ]
    }
   ],
   "source": [
    "## 2-D array\n",
    "arr = np.array ([[1, 2, 3, 4], [1, 2, 3, 4], [1, 2, 3, 4]])\n",
    "\n",
    "arr\n",
    "print (\"shape: \", arr.shape)\n",
    "print(\"Array: \", arr)\n",
    "print (\"Dimension: \", arr.ndim)"
   ]
  },
  {
   "cell_type": "code",
   "execution_count": 112,
   "id": "2914c974",
   "metadata": {},
   "outputs": [
    {
     "name": "stdout",
     "output_type": "stream",
     "text": [
      "shape:  (2, 3, 4)\n",
      "Array:  [[[ 0  1  2  3]\n",
      "  [ 4  5  6  7]\n",
      "  [ 8  9 10 11]]\n",
      "\n",
      " [[12 13 14 15]\n",
      "  [16 17 18 19]\n",
      "  [20 21 22 23]]]\n",
      "Dimension:  3\n"
     ]
    }
   ],
   "source": [
    "# how to create 2-D array\n",
    "# here the reshape specifies (2 rows, each of 2 rows has 3 sub rows, each of 3 sub row has 4 columns each)\n",
    "c = np.arange(24).reshape(2, 3, 4)  # 3d array\n",
    "c\n",
    "print (\"shape: \", c.shape)\n",
    "print(\"Array: \", c)\n",
    "print (\"Dimension: \", c.ndim)"
   ]
  },
  {
   "cell_type": "code",
   "execution_count": 113,
   "id": "f1bf05b8",
   "metadata": {},
   "outputs": [
    {
     "name": "stdout",
     "output_type": "stream",
     "text": [
      "[   0    1    2 ... 9997 9998 9999]\n",
      "dim:  1\n",
      "-----------------------\n",
      "[[   0    1    2 ...   97   98   99]\n",
      " [ 100  101  102 ...  197  198  199]\n",
      " [ 200  201  202 ...  297  298  299]\n",
      " ...\n",
      " [9700 9701 9702 ... 9797 9798 9799]\n",
      " [9800 9801 9802 ... 9897 9898 9899]\n",
      " [9900 9901 9902 ... 9997 9998 9999]]\n",
      "dim:  2\n"
     ]
    }
   ],
   "source": [
    "a = np.arange (10000)\n",
    "b = a.reshape (100, 100)\n",
    "\n",
    "print (a)\n",
    "print (\"dim: \", a.ndim)\n",
    "print (\"-----------------------\")\n",
    "print (b)\n",
    "print (\"dim: \", b.ndim)"
   ]
  },
  {
   "cell_type": "code",
   "execution_count": 114,
   "id": "f78964b2",
   "metadata": {},
   "outputs": [
    {
     "name": "stdout",
     "output_type": "stream",
     "text": [
      "[20 30 40 50]\n",
      "A dim:  1\n",
      "-----------------------\n",
      "[0 1 2 3]\n",
      "B dim:  1\n",
      "-----------------------\n",
      "4\n",
      "C dim:  0\n"
     ]
    }
   ],
   "source": [
    "a = np.array([20, 30, 40, 50])\n",
    "b = np.arange(4) # arange will create a 1-D array\n",
    "c = np.array(4) # array will create a 0-D array\n",
    "\n",
    "print (a)\n",
    "print (\"A dim: \", a.ndim)\n",
    "print (\"-----------------------\")\n",
    "print (b)\n",
    "print (\"B dim: \", b.ndim)\n",
    "print (\"-----------------------\")\n",
    "print (c)\n",
    "print (\"C dim: \", c.ndim)"
   ]
  },
  {
   "cell_type": "markdown",
   "id": "65dc882a",
   "metadata": {},
   "source": [
    "### Numpy Matrices"
   ]
  },
  {
   "cell_type": "code",
   "execution_count": 115,
   "id": "f18c8393",
   "metadata": {},
   "outputs": [
    {
     "name": "stdout",
     "output_type": "stream",
     "text": [
      "shape:  (2, 2)\n",
      "Array:  [[1 2]\n",
      " [3 4]]\n",
      "Dimension:  2\n"
     ]
    }
   ],
   "source": [
    "a = np.matrix('1 2; 3 4') \n",
    "a\n",
    "print (\"shape: \", a.shape)\n",
    "print(\"Array: \", a)\n",
    "print (\"Dimension: \", a.ndim)"
   ]
  },
  {
   "cell_type": "markdown",
   "id": "c34087d4",
   "metadata": {},
   "source": [
    "### Numpy List to Matrices"
   ]
  },
  {
   "cell_type": "code",
   "execution_count": 118,
   "id": "0d54daa2",
   "metadata": {},
   "outputs": [
    {
     "name": "stdout",
     "output_type": "stream",
     "text": [
      "Shape:  (3,)\n",
      "Array:  [1 2 3]\n",
      "Dimension:  1\n",
      "-----------------------\n",
      "Shape:  (3, 1)\n",
      "Array:  [[10]\n",
      " [20]\n",
      " [30]]\n",
      "Dimension:  2\n"
     ]
    }
   ],
   "source": [
    "list1 = [1, 2, 3] \n",
    "list1 = np.array (list1)\n",
    "print (\"Shape: \", list1.shape)\n",
    "print(\"Array: \", list1)\n",
    "print (\"Dimension: \", list1.ndim)\n",
    "print (\"-----------------------\")\n",
    "\n",
    "# creating a 1-D list (Vertical) \n",
    "list2 = [[10], \n",
    "        [20], \n",
    "        [30]]\n",
    "list2 = np.array (list2)\n",
    "print (\"Shape: \", list2.shape)\n",
    "print(\"Array: \", list2)\n",
    "print (\"Dimension: \", list2.ndim)"
   ]
  },
  {
   "cell_type": "code",
   "execution_count": 120,
   "id": "d003f486",
   "metadata": {},
   "outputs": [
    {
     "name": "stdout",
     "output_type": "stream",
     "text": [
      "Vector created from a list 1:\n",
      "[10 20 30 40 50]\n",
      "1\n",
      "Vector created from a list 2:\n",
      "[10 20 30 40 50]\n",
      "1\n",
      "Division of two vectors:  [1. 1. 1. 1. 1.]\n",
      "1\n"
     ]
    }
   ],
   "source": [
    "lst1 = [10,20,30,40,50] \n",
    "lst2 = [10,20,30,40,50]\n",
    " \n",
    "vctr1 = np.array(lst1) \n",
    " \n",
    "vctr2= np.array(lst2) \n",
    " \n",
    "print(\"Vector created from a list 1:\") \n",
    "print(vctr1) \n",
    "print(vctr1.ndim) \n",
    "print(\"Vector created from a list 2:\") \n",
    "print(vctr2) \n",
    "print(vctr2.ndim) \n",
    " \n",
    "vctr_div = vctr1/vctr2\n",
    "print(\"Division of two vectors: \",vctr_div)\n",
    "print(vctr_div.ndim) "
   ]
  },
  {
   "cell_type": "markdown",
   "id": "f530fe5e",
   "metadata": {},
   "source": [
    "### Numpy Vectors"
   ]
  },
  {
   "cell_type": "markdown",
   "id": "3b037782",
   "metadata": {},
   "source": [
    "A vector can be considered as a single-dimensional array. With respect to Python, a vector is a one-dimensional array of lists. It occupies the elements in a similar manner as that of a Python list."
   ]
  },
  {
   "cell_type": "code",
   "execution_count": 127,
   "id": "b699f0f3",
   "metadata": {},
   "outputs": [
    {
     "name": "stdout",
     "output_type": "stream",
     "text": [
      "Vector created from a list:\n",
      "Dim:  1\n"
     ]
    }
   ],
   "source": [
    "## create vector from list\n",
    "\n",
    "lst = [10,20,30,40,50] \n",
    "\n",
    "vctr = np.array(lst) \n",
    "print(\"Vector created from a list:\") \n",
    "print(\"Dim: \",vctr.ndim)"
   ]
  },
  {
   "cell_type": "code",
   "execution_count": 128,
   "id": "95c82de9",
   "metadata": {},
   "outputs": [
    {
     "name": "stdout",
     "output_type": "stream",
     "text": [
      "Vector created from a list:\n",
      "[[ 2]\n",
      " [ 4]\n",
      " [ 6]\n",
      " [10]]\n",
      "Dim:  2\n"
     ]
    }
   ],
   "source": [
    "lst = [[2], \n",
    "        [4], \n",
    "        [6],\n",
    "          [10]]  \n",
    "\n",
    "vctr = np.array(lst) \n",
    "\n",
    "print(\"Vector created from a list:\") \n",
    "print(vctr)\n",
    "print(\"Dim: \",vctr.ndim)"
   ]
  },
  {
   "cell_type": "markdown",
   "id": "aae8492a",
   "metadata": {},
   "source": [
    "#### With Vectors, following list of the basic operations that can be performed:\n",
    "\n",
    "* Addition\n",
    "* Subtraction\n",
    "* Multiplication\n",
    "* Division\n",
    "* Dot Product, etc."
   ]
  },
  {
   "cell_type": "markdown",
   "id": "a189a50e",
   "metadata": {},
   "source": [
    "#### Addition"
   ]
  },
  {
   "cell_type": "code",
   "execution_count": 137,
   "id": "02f80280",
   "metadata": {},
   "outputs": [
    {
     "name": "stdout",
     "output_type": "stream",
     "text": [
      "Vector1                             :  [10 20 30 40 50]\n",
      "Vector2                             :  [1 2 3 4 5]\n",
      "-------------------------------------------------------------\n",
      "Addition of two vectors             :  [11 22 33 44 55]\n",
      "Vector dimension (Addition)         :  1\n",
      "-------------------------------------------------------------\n",
      "Subtraction of two vectors          :  [ 9 18 27 36 45]\n",
      "Vector dimension (Subtraction)      :  1\n",
      "-------------------------------------------------------------\n",
      "Division of two vectors             :  [10. 10. 10. 10. 10.]\n",
      "Vector dimension (Division)         :  1\n",
      "-------------------------------------------------------------\n",
      "Multiplication of two vectors       :  [ 10  40  90 160 250]\n",
      "Vector dimension (Multiplication)   :  1\n",
      "-------------------------------------------------------------\n",
      "Dot Product of two vectors          :  550\n",
      "Vector dimension (Dot Product)      :  0\n"
     ]
    }
   ],
   "source": [
    "lst1 = [10,20,30,40,50] \n",
    "lst2 = [1,2,3,4,5]\n",
    "\n",
    "vctr1 = np.array(lst1) \n",
    "vctr2= np.array(lst2) \n",
    "\n",
    "vector_add = vctr1+vctr2\n",
    "vector_sub = vctr1-vctr2\n",
    "vector_div = vctr1/vctr2\n",
    "vector_mul = vctr1*vctr2\n",
    "\n",
    "vector_dot = np.dot (vctr1, vctr2)\n",
    "\n",
    "print(\"Vector1                             : \",vctr1)\n",
    "print(\"Vector2                             : \",vctr2)\n",
    "print(\"-------------------------------------------------------------\")\n",
    "print(\"Addition of two vectors             : \",vector_add)\n",
    "print(\"Vector dimension (Addition)         : \",vector_add.ndim)\n",
    "print(\"-------------------------------------------------------------\")\n",
    "print(\"Subtraction of two vectors          : \",vector_sub)\n",
    "print(\"Vector dimension (Subtraction)      : \",vector_sub.ndim)\n",
    "print(\"-------------------------------------------------------------\")\n",
    "print(\"Division of two vectors             : \",vector_div)\n",
    "print(\"Vector dimension (Division)         : \",vector_div.ndim)\n",
    "print(\"-------------------------------------------------------------\")\n",
    "print(\"Multiplication of two vectors       : \",vector_mul)\n",
    "print(\"Vector dimension (Multiplication)   : \",vector_mul.ndim)\n",
    "print(\"-------------------------------------------------------------\")\n",
    "print(\"Dot Product of two vectors          : \",vector_dot)\n",
    "print(\"Vector dimension (Dot Product)      : \",vector_dot.ndim)"
   ]
  },
  {
   "cell_type": "code",
   "execution_count": 143,
   "id": "9705e92a",
   "metadata": {},
   "outputs": [],
   "source": [
    "lst1 = [10,20,30,40,50, 60]\n",
    "\n",
    "vec_only    = np.array (lst1)\n",
    "vec_reshape = vec_only.reshape (2, 3) # CORRECT (since this requires 2x3=6 elements)\n",
    "#vec_reshape = vec_only.reshape (2, 4) # ERROR (since this requires 2x4=8 elements)"
   ]
  },
  {
   "cell_type": "markdown",
   "id": "8bd16be9",
   "metadata": {},
   "source": [
    "### Reshape Functions"
   ]
  },
  {
   "cell_type": "markdown",
   "id": "5891d0a1",
   "metadata": {},
   "source": [
    "numpy.reshape has following synxtax\n",
    "\n",
    "numpy.reshape(a, /, shape=None, *, newshape=None, order='C', copy=None) where\n",
    "\n",
    "a        = array_like # array to be reshaped\n",
    "shape    = int or tuple of ints\n",
    "newshape = int or tuple of ints"
   ]
  },
  {
   "cell_type": "code",
   "execution_count": 144,
   "id": "683998c0",
   "metadata": {},
   "outputs": [
    {
     "data": {
      "text/plain": [
       "array([[0, 1],\n",
       "       [2, 3],\n",
       "       [4, 5]])"
      ]
     },
     "execution_count": 144,
     "metadata": {},
     "output_type": "execute_result"
    }
   ],
   "source": [
    "a = np.arange(6).reshape((3, 2))\n",
    "a"
   ]
  },
  {
   "cell_type": "code",
   "execution_count": 145,
   "id": "60f1bd56",
   "metadata": {},
   "outputs": [
    {
     "data": {
      "text/plain": [
       "array([[0, 1, 2],\n",
       "       [3, 4, 5]])"
      ]
     },
     "execution_count": 145,
     "metadata": {},
     "output_type": "execute_result"
    }
   ],
   "source": [
    "b = np.reshape(a, (2, 3)) # C-like index ordering\n",
    "b"
   ]
  },
  {
   "cell_type": "code",
   "execution_count": 146,
   "id": "e64bb18b",
   "metadata": {},
   "outputs": [
    {
     "name": "stdout",
     "output_type": "stream",
     "text": [
      "[[[ 1  2]\n",
      "  [ 3  4]\n",
      "  [ 5  6]]\n",
      "\n",
      " [[ 7  8]\n",
      "  [ 9 10]\n",
      "  [11 12]]]\n"
     ]
    }
   ],
   "source": [
    "arr = np.array([1, 2, 3, 4, 5, 6, 7, 8, 9, 10, 11, 12])\n",
    "newarr = arr.reshape(2, 3, 2)\n",
    "\n",
    "print(newarr)"
   ]
  },
  {
   "cell_type": "code",
   "execution_count": 147,
   "id": "4a28e90e",
   "metadata": {},
   "outputs": [
    {
     "name": "stdout",
     "output_type": "stream",
     "text": [
      "[[[1 2]\n",
      "  [3 4]]\n",
      "\n",
      " [[5 6]\n",
      "  [7 8]]]\n"
     ]
    }
   ],
   "source": [
    "## You are allowed to have one \"unknown\" dimension.\n",
    "## Meaning that you do not have to specify an exact number for one of the dimensions in the reshape method.\n",
    "## Pass -1 as the value, and NumPy will calculate this number for you.\n",
    "\n",
    "arr = np.array([1, 2, 3, 4, 5, 6, 7, 8])\n",
    "newarr = arr.reshape(2, 2, -1)\n",
    "\n",
    "print(newarr)"
   ]
  },
  {
   "cell_type": "code",
   "execution_count": 148,
   "id": "dab5ac00",
   "metadata": {},
   "outputs": [
    {
     "name": "stdout",
     "output_type": "stream",
     "text": [
      "[1 2 3 4 5 6]\n"
     ]
    }
   ],
   "source": [
    "## flatten an array\n",
    "\n",
    "arr = np.array([[1, 2, 3], [4, 5, 6]])\n",
    "newarr = arr.reshape(-1)\n",
    "\n",
    "print(newarr)"
   ]
  },
  {
   "cell_type": "code",
   "execution_count": 154,
   "id": "4ac176b5",
   "metadata": {},
   "outputs": [
    {
     "name": "stdout",
     "output_type": "stream",
     "text": [
      "[[91 27 90 72 83 58 10  0  7 94]\n",
      " [24 87 64 43 39  5 26 12 65 37]\n",
      " [84 45 48 40 34 38 92 16 11 48]\n",
      " [ 7 98 85 12  1 32 96 26 14  6]\n",
      " [76 30 32 10  8 86 64 52 67 56]]\n",
      "(5, 10)\n",
      "5\n",
      "10\n",
      "2\n"
     ]
    }
   ],
   "source": [
    "rng = np.random.default_rng()\n",
    "results = rng.integers(0, 100, size=(5, 10))\n",
    "print (results)\n",
    "print (results.shape)\n",
    "print (results.shape[0])\n",
    "print (results.shape[1])\n",
    "print (results.ndim)"
   ]
  },
  {
   "cell_type": "code",
   "execution_count": null,
   "id": "49abae03",
   "metadata": {},
   "outputs": [],
   "source": []
  }
 ],
 "metadata": {
  "kernelspec": {
   "display_name": "Python 3 (ipykernel)",
   "language": "python",
   "name": "python3"
  },
  "language_info": {
   "codemirror_mode": {
    "name": "ipython",
    "version": 3
   },
   "file_extension": ".py",
   "mimetype": "text/x-python",
   "name": "python",
   "nbconvert_exporter": "python",
   "pygments_lexer": "ipython3",
   "version": "3.10.9"
  }
 },
 "nbformat": 4,
 "nbformat_minor": 5
}
